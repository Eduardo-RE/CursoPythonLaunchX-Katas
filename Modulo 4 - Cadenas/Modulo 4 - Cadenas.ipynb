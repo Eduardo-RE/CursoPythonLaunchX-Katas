{
 "cells": [
  {
   "cell_type": "markdown",
   "metadata": {},
   "source": [
    "# Ejercicio 1: Transformar cadenas"
   ]
  },
  {
   "cell_type": "code",
   "execution_count": 7,
   "metadata": {},
   "outputs": [
    {
     "name": "stdout",
     "output_type": "stream",
     "text": [
      "The Moon is Earth's only satellite\n",
      "There are several interesting facts about the Moon and how it affects life here on Earth\n",
      "This yearly drift is not significant enough to\n",
      "Interesting facts about the Moon\n",
      "The Moon is Earth's only satellite\n",
      "There are several interesting facts about the Moon and how it affects life here on Earth\n",
      "This yearly drift is not significant enough to\n"
     ]
    }
   ],
   "source": [
    "# Dividir el texto\n",
    "text = \"\"\"Interesting facts about the Moon. The Moon is Earth's only satellite. There are several interesting facts about the Moon and how it affects life here on Earth. On average, the Moon moves 4cm away from the Earth every year. This yearly drift is not significant enough to\"\"\"\n",
    "text_parts = text.split('. ')\n",
    "text_parts\n",
    "\n",
    "#Palabras clave\n",
    "keywords= [\"average\", \"temperature\", \"distance\"]\n",
    "\n",
    "#Ciclo for para recorrer la cadena\n",
    "for sentence in text_parts:\n",
    "    for keywords in keywords:\n",
    "        if keywords in sentence:\n",
    "            print(sentence)\n",
    "            break\n",
    "#Ciclo para Celsius\n",
    "for sentence in text_parts:\n",
    "    for keywords in keywords:\n",
    "        if keywords in sentence:\n",
    "            print(sentence.replace('C ', 'Celsius '))"
   ]
  },
  {
   "cell_type": "markdown",
   "metadata": {},
   "source": [
    "# Ejercicio 2: Formateando cadenas"
   ]
  },
  {
   "cell_type": "code",
   "execution_count": 16,
   "metadata": {},
   "outputs": [
    {
     "name": "stdout",
     "output_type": "stream",
     "text": [
      "Datos de gravedad sobre Marte\n",
      "--------------------------------------------------------------------------------\n",
      "Nombre del planeta: Ganimedes\n",
      "Gravedad en Marte: 1.4300000000000002 m/s2\n",
      "\n",
      "--------------------------------------------------------------------------------\n",
      "Nombre del planeta: Ganimedes\n",
      "Gravedad en Marte: 1.4300000000000002 m/s2\n",
      "\n",
      "Datos de Gravedad sobre: Marte\n",
      "--------------------------------------------------------------------\n",
      "Nombre del planeta: Ganimedes\n",
      "Gravedad en Marte: 1.4300000000000002 m/s2\n",
      "\n"
     ]
    }
   ],
   "source": [
    "nombre = \"Marte\"\n",
    "gravedad = 0.00143 # in kms\n",
    "planeta = \"Ganimedes\"\n",
    "\n",
    "# Creamos titulo\n",
    "title = f'Datos de gravedad sobre {nombre}'\n",
    "print(title)\n",
    "\n",
    "# Creamos plantilla\n",
    "hechos = f\"\"\"{'-'*80}\n",
    "Nombre del planeta: {planeta}\n",
    "Gravedad en {nombre}: {gravedad * 1000} m/s2\n",
    "\"\"\"\n",
    "\n",
    "#Union de ambas cadenas\n",
    "template = f\"\"\"{title.title()}\n",
    "{hechos}\n",
    "\"\"\"\n",
    "print(hechos)\n",
    "\n",
    "#Nuevos datos\n",
    "planeta = 'Marte'\n",
    "gravedad = 0.00143 \n",
    "planeta = \"Ganimedes\"\n",
    "print(hechos)\n",
    "\n",
    "new_template = \"\"\"Datos de Gravedad sobre: {nombre}\n",
    "--------------------------------------------------------------------\n",
    "Nombre del planeta: {planeta}\n",
    "Gravedad en {nombre}: {gravedad} m/s2\n",
    "\"\"\"\n",
    "print(new_template.format(nombre=nombre, planeta=planeta, gravedad=gravedad*1000))"
   ]
  }
 ],
 "metadata": {
  "interpreter": {
   "hash": "b4ae3f830fabd9f6d0be2bfdf736c723070752cf5dc82cce9d3e82472cb111d1"
  },
  "kernelspec": {
   "display_name": "Python 3.9.10 64-bit (windows store)",
   "language": "python",
   "name": "python3"
  },
  "language_info": {
   "codemirror_mode": {
    "name": "ipython",
    "version": 3
   },
   "file_extension": ".py",
   "mimetype": "text/x-python",
   "name": "python",
   "nbconvert_exporter": "python",
   "pygments_lexer": "ipython3",
   "version": "3.9.10"
  },
  "orig_nbformat": 4
 },
 "nbformat": 4,
 "nbformat_minor": 2
}
