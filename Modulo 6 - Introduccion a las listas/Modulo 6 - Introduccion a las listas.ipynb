{
 "cells": [
  {
   "cell_type": "markdown",
   "metadata": {},
   "source": [
    "# Ejercicio 1 - Crear y usar listas de Python"
   ]
  },
  {
   "cell_type": "code",
   "execution_count": 6,
   "metadata": {},
   "outputs": [
    {
     "name": "stdout",
     "output_type": "stream",
     "text": [
      "Hay 8 planetas\n",
      "Pluton es el ultimo planeta\n"
     ]
    }
   ],
   "source": [
    "# Crear lista de ocho planetas\n",
    "planets = ['Tierra', 'Marte', 'Mercurio', 'Urano', 'Neptuno', 'Saturno', 'Jupiter', \"Venus\"]\n",
    "print(\"Hay\", len(planets), \"planetas\")\n",
    "\n",
    "# Agregamos a pluton\n",
    "planets.append('Pluton')\n",
    "print(planets[-1], 'es el ultimo planeta')"
   ]
  },
  {
   "cell_type": "markdown",
   "metadata": {},
   "source": [
    "# Ejercicio 2 - Trabajando con datos de una lista"
   ]
  },
  {
   "cell_type": "code",
   "execution_count": 9,
   "metadata": {},
   "outputs": [
    {
     "name": "stdout",
     "output_type": "stream",
     "text": [
      "Estos planetas son mas cercanos al sol que: Neptuno\n",
      "['Tierra', 'Marte', 'Mercurio']\n",
      "Estos planetas son mas lejanos al sol que: Neptuno\n",
      "['Saturno', 'Jupiter', 'Venus']\n"
     ]
    }
   ],
   "source": [
    "# Crear lista de ocho planetas\n",
    "planets = ['Tierra', 'Marte', 'Mercurio', 'Neptuno', 'Saturno', 'Jupiter', \"Venus\"]\n",
    "\n",
    "# Nombre de planeta\n",
    "user_planet = input('Porfavor agrega el nombre del planeta (Con letra mayuscula al inicio)')\n",
    "\n",
    "# Busca planeta\n",
    "planet_index = planets.index(user_planet)\n",
    "\n",
    "# Muestra planetas mas cercanos al sol\n",
    "print('Estos planetas son mas cercanos al sol que: ' + user_planet)\n",
    "print(planets[0:planet_index])\n",
    "\n",
    "# Muestra planetas lejanos al sol\n",
    "print('Estos planetas son mas lejanos al sol que: ' + user_planet)\n",
    "print(planets[planet_index + 1:])"
   ]
  }
 ],
 "metadata": {
  "interpreter": {
   "hash": "b4ae3f830fabd9f6d0be2bfdf736c723070752cf5dc82cce9d3e82472cb111d1"
  },
  "kernelspec": {
   "display_name": "Python 3.9.10 64-bit (windows store)",
   "language": "python",
   "name": "python3"
  },
  "language_info": {
   "codemirror_mode": {
    "name": "ipython",
    "version": 3
   },
   "file_extension": ".py",
   "mimetype": "text/x-python",
   "name": "python",
   "nbconvert_exporter": "python",
   "pygments_lexer": "ipython3",
   "version": "3.9.10"
  },
  "orig_nbformat": 4
 },
 "nbformat": 4,
 "nbformat_minor": 2
}
