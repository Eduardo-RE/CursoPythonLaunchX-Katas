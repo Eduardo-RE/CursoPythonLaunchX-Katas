{
 "cells": [
  {
   "cell_type": "markdown",
   "metadata": {},
   "source": [
    "# Kata del modulo 10"
   ]
  },
  {
   "cell_type": "code",
   "execution_count": 1,
   "metadata": {},
   "outputs": [
    {
     "ename": "FileNotFoundError",
     "evalue": "[Errno 2] No such file or directory: '/path/to/mars.jpg'",
     "output_type": "error",
     "traceback": [
      "\u001b[1;31m---------------------------------------------------------------------------\u001b[0m",
      "\u001b[1;31mFileNotFoundError\u001b[0m                         Traceback (most recent call last)",
      "\u001b[1;32mc:\\Users\\eddie\\Desktop\\Launch X\\CursoIntroPython\\Modulo 10 - Manejo de errores\\Modulo 10 - Manejo de errores.ipynb Cell 2'\u001b[0m in \u001b[0;36m<module>\u001b[1;34m\u001b[0m\n\u001b[1;32m----> <a href='vscode-notebook-cell:/c%3A/Users/eddie/Desktop/Launch%20X/CursoIntroPython/Modulo%2010%20-%20Manejo%20de%20errores/Modulo%2010%20-%20Manejo%20de%20errores.ipynb#ch0000001?line=0'>1</a>\u001b[0m \u001b[39mopen\u001b[39;49m(\u001b[39m\"\u001b[39;49m\u001b[39m/path/to/mars.jpg\u001b[39;49m\u001b[39m\"\u001b[39;49m)\n",
      "\u001b[1;31mFileNotFoundError\u001b[0m: [Errno 2] No such file or directory: '/path/to/mars.jpg'"
     ]
    }
   ],
   "source": [
    "open(\"/path/to/mars.jpg\")"
   ]
  },
  {
   "cell_type": "code",
   "execution_count": 5,
   "metadata": {},
   "outputs": [
    {
     "ename": "FileNotFoundError",
     "evalue": "[Errno 2] No such file or directory: '/path/to/mars.jpg'",
     "output_type": "error",
     "traceback": [
      "\u001b[1;31m---------------------------------------------------------------------------\u001b[0m",
      "\u001b[1;31mFileNotFoundError\u001b[0m                         Traceback (most recent call last)",
      "\u001b[1;32mc:\\Users\\eddie\\Desktop\\Launch X\\CursoIntroPython\\Modulo 10 - Manejo de errores\\Modulo 10 - Manejo de errores.ipynb Cell 3'\u001b[0m in \u001b[0;36m<module>\u001b[1;34m\u001b[0m\n\u001b[0;32m      <a href='vscode-notebook-cell:/c%3A/Users/eddie/Desktop/Launch%20X/CursoIntroPython/Modulo%2010%20-%20Manejo%20de%20errores/Modulo%2010%20-%20Manejo%20de%20errores.ipynb#ch0000004?line=1'>2</a>\u001b[0m     \u001b[39mopen\u001b[39m(\u001b[39m\"\u001b[39m\u001b[39m/path/to/mars.jpg\u001b[39m\u001b[39m\"\u001b[39m)\n\u001b[0;32m      <a href='vscode-notebook-cell:/c%3A/Users/eddie/Desktop/Launch%20X/CursoIntroPython/Modulo%2010%20-%20Manejo%20de%20errores/Modulo%2010%20-%20Manejo%20de%20errores.ipynb#ch0000004?line=3'>4</a>\u001b[0m \u001b[39mif\u001b[39;00m \u001b[39m__name__\u001b[39m \u001b[39m==\u001b[39m \u001b[39m'\u001b[39m\u001b[39m__main__\u001b[39m\u001b[39m'\u001b[39m:\n\u001b[1;32m----> <a href='vscode-notebook-cell:/c%3A/Users/eddie/Desktop/Launch%20X/CursoIntroPython/Modulo%2010%20-%20Manejo%20de%20errores/Modulo%2010%20-%20Manejo%20de%20errores.ipynb#ch0000004?line=4'>5</a>\u001b[0m     main()\n",
      "\u001b[1;32mc:\\Users\\eddie\\Desktop\\Launch X\\CursoIntroPython\\Modulo 10 - Manejo de errores\\Modulo 10 - Manejo de errores.ipynb Cell 3'\u001b[0m in \u001b[0;36mmain\u001b[1;34m()\u001b[0m\n\u001b[0;32m      <a href='vscode-notebook-cell:/c%3A/Users/eddie/Desktop/Launch%20X/CursoIntroPython/Modulo%2010%20-%20Manejo%20de%20errores/Modulo%2010%20-%20Manejo%20de%20errores.ipynb#ch0000004?line=0'>1</a>\u001b[0m \u001b[39mdef\u001b[39;00m \u001b[39mmain\u001b[39m():\n\u001b[1;32m----> <a href='vscode-notebook-cell:/c%3A/Users/eddie/Desktop/Launch%20X/CursoIntroPython/Modulo%2010%20-%20Manejo%20de%20errores/Modulo%2010%20-%20Manejo%20de%20errores.ipynb#ch0000004?line=1'>2</a>\u001b[0m     \u001b[39mopen\u001b[39;49m(\u001b[39m\"\u001b[39;49m\u001b[39m/path/to/mars.jpg\u001b[39;49m\u001b[39m\"\u001b[39;49m)\n",
      "\u001b[1;31mFileNotFoundError\u001b[0m: [Errno 2] No such file or directory: '/path/to/mars.jpg'"
     ]
    }
   ],
   "source": [
    "def main():\n",
    "    open(\"/path/to/mars.jpg\")\n",
    "\n",
    "if __name__ == '__main__':\n",
    "    main()"
   ]
  },
  {
   "cell_type": "code",
   "execution_count": 6,
   "metadata": {},
   "outputs": [
    {
     "name": "stdout",
     "output_type": "stream",
     "text": [
      "Archivo no encontrado\n"
     ]
    }
   ],
   "source": [
    "def main():\n",
    "    try:\n",
    "        open('config.txt')\n",
    "    except FileNotFoundError:\n",
    "        print(\"Archivo no encontrado\")\n",
    "\n",
    "if __name__ == '__main__':\n",
    "    main()"
   ]
  },
  {
   "cell_type": "code",
   "execution_count": 7,
   "metadata": {},
   "outputs": [
    {
     "name": "stdout",
     "output_type": "stream",
     "text": [
      "Archivo no encontrado\n"
     ]
    }
   ],
   "source": [
    "def main():\n",
    "    try:\n",
    "        open('config.txt')\n",
    "    except FileNotFoundError:\n",
    "        print(\"Archivo no encontrado\")\n",
    "    except IsADirectoryError:\n",
    "        print(\"No se a podido abrir el archivo\")\n",
    "    except (BlockingIOError, TimeoutError):\n",
    "        print(\"Mucha carga, no se pudo leer el archivo\")\n",
    "\n",
    "if __name__ == '__main__':\n",
    "    main()"
   ]
  },
  {
   "cell_type": "code",
   "execution_count": 8,
   "metadata": {},
   "outputs": [
    {
     "name": "stdout",
     "output_type": "stream",
     "text": [
      "Archivo no encontrado [Errno 2] No such file or directory: 'config.txt'\n"
     ]
    }
   ],
   "source": [
    "def main():\n",
    "    try:\n",
    "        open('config.txt')\n",
    "    except FileNotFoundError as err:\n",
    "        print(\"Archivo no encontrado\",err)\n",
    "    except IsADirectoryError as err:\n",
    "        print(\"No se a podido abrir el archivo\",err)\n",
    "    except (BlockingIOError , TimeoutError) as err:\n",
    "        print(\"Mucha carga, no se pudo leer el archivo\",err)\n",
    "\n",
    "if __name__ == '__main__':\n",
    "    main()"
   ]
  },
  {
   "cell_type": "code",
   "execution_count": 9,
   "metadata": {},
   "outputs": [
    {
     "name": "stdout",
     "output_type": "stream",
     "text": [
      "Archivo no encontrado\n"
     ]
    }
   ],
   "source": [
    "def main():\n",
    "    try:\n",
    "        open('config.txt')\n",
    "    except OSError as err:\n",
    "        if err.errno==2:\n",
    "            print(\"Archivo no encontrado\")\n",
    "        elif err.errno==13:\n",
    "            print(\"No se a podido abrir el archivo\")\n",
    "        elif err.errno==1 or err.errno==110:\n",
    "            print(\"Mucha carga, no se pudo leer el archivo\")\n",
    "\n",
    "if __name__ == '__main__':\n",
    "    main()"
   ]
  },
  {
   "cell_type": "code",
   "execution_count": 10,
   "metadata": {},
   "outputs": [
    {
     "data": {
      "text/plain": [
       "'El agua sobrante despues de 2 dias es: -10 litros'"
      ]
     },
     "execution_count": 10,
     "metadata": {},
     "output_type": "execute_result"
    }
   ],
   "source": [
    "def agua(astronautas, agua, dias):\n",
    "    usoDiario = astronautas * 11\n",
    "    usoTotal = usoDiario * dias\n",
    "    aguaSobrante = agua - usoTotal\n",
    "    return f\"El agua sobrante despues de {dias} dias es: {aguaSobrante} litros\"\n",
    "\n",
    "agua(5, 100, 2)"
   ]
  },
  {
   "cell_type": "code",
   "execution_count": 11,
   "metadata": {},
   "outputs": [
    {
     "ename": "NameError",
     "evalue": "name 'alert_navigation_system' is not defined",
     "output_type": "error",
     "traceback": [
      "\u001b[1;31m---------------------------------------------------------------------------\u001b[0m",
      "\u001b[1;31mRuntimeError\u001b[0m                              Traceback (most recent call last)",
      "\u001b[1;32mc:\\Users\\eddie\\Desktop\\Launch X\\CursoIntroPython\\Modulo 10 - Manejo de errores\\Modulo 10 - Manejo de errores.ipynb Cell 9'\u001b[0m in \u001b[0;36m<module>\u001b[1;34m\u001b[0m\n\u001b[0;32m      <a href='vscode-notebook-cell:/c%3A/Users/eddie/Desktop/Launch%20X/CursoIntroPython/Modulo%2010%20-%20Manejo%20de%20errores/Modulo%2010%20-%20Manejo%20de%20errores.ipynb#ch0000010?line=8'>9</a>\u001b[0m \u001b[39mtry\u001b[39;00m:\n\u001b[1;32m---> <a href='vscode-notebook-cell:/c%3A/Users/eddie/Desktop/Launch%20X/CursoIntroPython/Modulo%2010%20-%20Manejo%20de%20errores/Modulo%2010%20-%20Manejo%20de%20errores.ipynb#ch0000010?line=9'>10</a>\u001b[0m     agua(\u001b[39m5\u001b[39;49m, \u001b[39m100\u001b[39;49m, \u001b[39m2\u001b[39;49m)\n\u001b[0;32m     <a href='vscode-notebook-cell:/c%3A/Users/eddie/Desktop/Launch%20X/CursoIntroPython/Modulo%2010%20-%20Manejo%20de%20errores/Modulo%2010%20-%20Manejo%20de%20errores.ipynb#ch0000010?line=10'>11</a>\u001b[0m \u001b[39mexcept\u001b[39;00m \u001b[39mRuntimeError\u001b[39;00m \u001b[39mas\u001b[39;00m err:\n",
      "\u001b[1;32mc:\\Users\\eddie\\Desktop\\Launch X\\CursoIntroPython\\Modulo 10 - Manejo de errores\\Modulo 10 - Manejo de errores.ipynb Cell 9'\u001b[0m in \u001b[0;36magua\u001b[1;34m(astronautas, agua, dias)\u001b[0m\n\u001b[0;32m      <a href='vscode-notebook-cell:/c%3A/Users/eddie/Desktop/Launch%20X/CursoIntroPython/Modulo%2010%20-%20Manejo%20de%20errores/Modulo%2010%20-%20Manejo%20de%20errores.ipynb#ch0000010?line=4'>5</a>\u001b[0m \u001b[39mif\u001b[39;00m aguaSobrante \u001b[39m<\u001b[39m \u001b[39m0\u001b[39m:\n\u001b[1;32m----> <a href='vscode-notebook-cell:/c%3A/Users/eddie/Desktop/Launch%20X/CursoIntroPython/Modulo%2010%20-%20Manejo%20de%20errores/Modulo%2010%20-%20Manejo%20de%20errores.ipynb#ch0000010?line=5'>6</a>\u001b[0m     \u001b[39mraise\u001b[39;00m \u001b[39mRuntimeError\u001b[39;00m(\u001b[39mf\u001b[39m\u001b[39m\"\u001b[39m\u001b[39mNo hay suficiente agua para los \u001b[39m\u001b[39m{\u001b[39;00mastronautas\u001b[39m}\u001b[39;00m\u001b[39m astronautas despues de \u001b[39m\u001b[39m{\u001b[39;00mdias\u001b[39m}\u001b[39;00m\u001b[39m dias!\u001b[39m\u001b[39m\"\u001b[39m)\n\u001b[0;32m      <a href='vscode-notebook-cell:/c%3A/Users/eddie/Desktop/Launch%20X/CursoIntroPython/Modulo%2010%20-%20Manejo%20de%20errores/Modulo%2010%20-%20Manejo%20de%20errores.ipynb#ch0000010?line=6'>7</a>\u001b[0m \u001b[39mreturn\u001b[39;00m \u001b[39mf\u001b[39m\u001b[39m\"\u001b[39m\u001b[39mEl agua sobrante despues de \u001b[39m\u001b[39m{\u001b[39;00mdias\u001b[39m}\u001b[39;00m\u001b[39m dias es: \u001b[39m\u001b[39m{\u001b[39;00maguaSobrante\u001b[39m}\u001b[39;00m\u001b[39m litros\u001b[39m\u001b[39m\"\u001b[39m\n",
      "\u001b[1;31mRuntimeError\u001b[0m: No hay suficiente agua para los 5 astronautas despues de 2 dias!",
      "\nDuring handling of the above exception, another exception occurred:\n",
      "\u001b[1;31mNameError\u001b[0m                                 Traceback (most recent call last)",
      "\u001b[1;32mc:\\Users\\eddie\\Desktop\\Launch X\\CursoIntroPython\\Modulo 10 - Manejo de errores\\Modulo 10 - Manejo de errores.ipynb Cell 9'\u001b[0m in \u001b[0;36m<module>\u001b[1;34m\u001b[0m\n\u001b[0;32m     <a href='vscode-notebook-cell:/c%3A/Users/eddie/Desktop/Launch%20X/CursoIntroPython/Modulo%2010%20-%20Manejo%20de%20errores/Modulo%2010%20-%20Manejo%20de%20errores.ipynb#ch0000010?line=9'>10</a>\u001b[0m     agua(\u001b[39m5\u001b[39m, \u001b[39m100\u001b[39m, \u001b[39m2\u001b[39m)\n\u001b[0;32m     <a href='vscode-notebook-cell:/c%3A/Users/eddie/Desktop/Launch%20X/CursoIntroPython/Modulo%2010%20-%20Manejo%20de%20errores/Modulo%2010%20-%20Manejo%20de%20errores.ipynb#ch0000010?line=10'>11</a>\u001b[0m \u001b[39mexcept\u001b[39;00m \u001b[39mRuntimeError\u001b[39;00m \u001b[39mas\u001b[39;00m err:\n\u001b[1;32m---> <a href='vscode-notebook-cell:/c%3A/Users/eddie/Desktop/Launch%20X/CursoIntroPython/Modulo%2010%20-%20Manejo%20de%20errores/Modulo%2010%20-%20Manejo%20de%20errores.ipynb#ch0000010?line=11'>12</a>\u001b[0m     alert_navigation_system(err)\n",
      "\u001b[1;31mNameError\u001b[0m: name 'alert_navigation_system' is not defined"
     ]
    }
   ],
   "source": [
    "def agua(astronautas, agua, dias):\n",
    "    usoDiario = astronautas * 11\n",
    "    usoTotal = usoDiario * dias\n",
    "    aguaSobrante = agua - usoTotal\n",
    "    if aguaSobrante < 0:\n",
    "        raise RuntimeError(f\"No hay suficiente agua para los {astronautas} astronautas despues de {dias} dias!\")\n",
    "    return f\"El agua sobrante despues de {dias} dias es: {aguaSobrante} litros\"\n",
    "\n",
    "try:\n",
    "    agua(5, 100, 2)\n",
    "except RuntimeError as err:\n",
    "    alert_navigation_system(err)"
   ]
  },
  {
   "cell_type": "code",
   "execution_count": 12,
   "metadata": {},
   "outputs": [
    {
     "ename": "RuntimeError",
     "evalue": "No hay suficiente agua para los 5 astronautas despues de 2 dias!",
     "output_type": "error",
     "traceback": [
      "\u001b[1;31m---------------------------------------------------------------------------\u001b[0m",
      "\u001b[1;31mRuntimeError\u001b[0m                              Traceback (most recent call last)",
      "\u001b[1;32mc:\\Users\\eddie\\Desktop\\Launch X\\CursoIntroPython\\Modulo 10 - Manejo de errores\\Modulo 10 - Manejo de errores.ipynb Cell 10'\u001b[0m in \u001b[0;36m<module>\u001b[1;34m\u001b[0m\n\u001b[0;32m     <a href='vscode-notebook-cell:/c%3A/Users/eddie/Desktop/Launch%20X/CursoIntroPython/Modulo%2010%20-%20Manejo%20de%20errores/Modulo%2010%20-%20Manejo%20de%20errores.ipynb#ch0000011?line=13'>14</a>\u001b[0m         \u001b[39mraise\u001b[39;00m \u001b[39mRuntimeError\u001b[39;00m(\u001b[39mf\u001b[39m\u001b[39m\"\u001b[39m\u001b[39mNo hay suficiente agua para los \u001b[39m\u001b[39m{\u001b[39;00mastronautas\u001b[39m}\u001b[39;00m\u001b[39m astronautas despues de \u001b[39m\u001b[39m{\u001b[39;00mdias\u001b[39m}\u001b[39;00m\u001b[39m dias!\u001b[39m\u001b[39m\"\u001b[39m)\n\u001b[0;32m     <a href='vscode-notebook-cell:/c%3A/Users/eddie/Desktop/Launch%20X/CursoIntroPython/Modulo%2010%20-%20Manejo%20de%20errores/Modulo%2010%20-%20Manejo%20de%20errores.ipynb#ch0000011?line=14'>15</a>\u001b[0m     \u001b[39mreturn\u001b[39;00m \u001b[39mf\u001b[39m\u001b[39m\"\u001b[39m\u001b[39mEl agua sobrante despues de \u001b[39m\u001b[39m{\u001b[39;00mdias\u001b[39m}\u001b[39;00m\u001b[39m dias es: \u001b[39m\u001b[39m{\u001b[39;00maguaSobrante\u001b[39m}\u001b[39;00m\u001b[39m litros\u001b[39m\u001b[39m\"\u001b[39m\n\u001b[1;32m---> <a href='vscode-notebook-cell:/c%3A/Users/eddie/Desktop/Launch%20X/CursoIntroPython/Modulo%2010%20-%20Manejo%20de%20errores/Modulo%2010%20-%20Manejo%20de%20errores.ipynb#ch0000011?line=15'>16</a>\u001b[0m agua(\u001b[39m5\u001b[39;49m, \u001b[39m100\u001b[39;49m, \u001b[39m2\u001b[39;49m)\n",
      "\u001b[1;32mc:\\Users\\eddie\\Desktop\\Launch X\\CursoIntroPython\\Modulo 10 - Manejo de errores\\Modulo 10 - Manejo de errores.ipynb Cell 10'\u001b[0m in \u001b[0;36magua\u001b[1;34m(astronautas, agua, dias)\u001b[0m\n\u001b[0;32m     <a href='vscode-notebook-cell:/c%3A/Users/eddie/Desktop/Launch%20X/CursoIntroPython/Modulo%2010%20-%20Manejo%20de%20errores/Modulo%2010%20-%20Manejo%20de%20errores.ipynb#ch0000011?line=11'>12</a>\u001b[0m aguaSobrante \u001b[39m=\u001b[39m agua \u001b[39m-\u001b[39m usoTotal\n\u001b[0;32m     <a href='vscode-notebook-cell:/c%3A/Users/eddie/Desktop/Launch%20X/CursoIntroPython/Modulo%2010%20-%20Manejo%20de%20errores/Modulo%2010%20-%20Manejo%20de%20errores.ipynb#ch0000011?line=12'>13</a>\u001b[0m \u001b[39mif\u001b[39;00m aguaSobrante \u001b[39m<\u001b[39m \u001b[39m0\u001b[39m:\n\u001b[1;32m---> <a href='vscode-notebook-cell:/c%3A/Users/eddie/Desktop/Launch%20X/CursoIntroPython/Modulo%2010%20-%20Manejo%20de%20errores/Modulo%2010%20-%20Manejo%20de%20errores.ipynb#ch0000011?line=13'>14</a>\u001b[0m     \u001b[39mraise\u001b[39;00m \u001b[39mRuntimeError\u001b[39;00m(\u001b[39mf\u001b[39m\u001b[39m\"\u001b[39m\u001b[39mNo hay suficiente agua para los \u001b[39m\u001b[39m{\u001b[39;00mastronautas\u001b[39m}\u001b[39;00m\u001b[39m astronautas despues de \u001b[39m\u001b[39m{\u001b[39;00mdias\u001b[39m}\u001b[39;00m\u001b[39m dias!\u001b[39m\u001b[39m\"\u001b[39m)\n\u001b[0;32m     <a href='vscode-notebook-cell:/c%3A/Users/eddie/Desktop/Launch%20X/CursoIntroPython/Modulo%2010%20-%20Manejo%20de%20errores/Modulo%2010%20-%20Manejo%20de%20errores.ipynb#ch0000011?line=14'>15</a>\u001b[0m \u001b[39mreturn\u001b[39;00m \u001b[39mf\u001b[39m\u001b[39m\"\u001b[39m\u001b[39mEl agua sobrante despues de \u001b[39m\u001b[39m{\u001b[39;00mdias\u001b[39m}\u001b[39;00m\u001b[39m dias es: \u001b[39m\u001b[39m{\u001b[39;00maguaSobrante\u001b[39m}\u001b[39;00m\u001b[39m litros\u001b[39m\u001b[39m\"\u001b[39m\n",
      "\u001b[1;31mRuntimeError\u001b[0m: No hay suficiente agua para los 5 astronautas despues de 2 dias!"
     ]
    }
   ],
   "source": [
    "def agua(astronautas, agua, dias):\n",
    "    for i in [astronautas, agua, dias]:\n",
    "        try:\n",
    "            # Si el argumento es un entero, se realizará la operación\n",
    "            i / 10\n",
    "        except TypeError:\n",
    "            # TypError será generado en caso de que el valor no sea entero\n",
    "            # Gernera la misma escepción pero con un mejor texto\n",
    "            raise TypeError(f\"Los datos ingresados deben ser tipo 'int', la entrada fue: '{argument}'\")\n",
    "    usoDiario = astronautas * 11\n",
    "    usoTotal = usoDiario * dias\n",
    "    aguaSobrante = agua - usoTotal\n",
    "    if aguaSobrante < 0:\n",
    "        raise RuntimeError(f\"No hay suficiente agua para los {astronautas} astronautas despues de {dias} dias!\")\n",
    "    return f\"El agua sobrante despues de {dias} dias es: {aguaSobrante} litros\"\n",
    "agua(5, 100, 2)"
   ]
  }
 ],
 "metadata": {
  "interpreter": {
   "hash": "b4ae3f830fabd9f6d0be2bfdf736c723070752cf5dc82cce9d3e82472cb111d1"
  },
  "kernelspec": {
   "display_name": "Python 3.9.10 64-bit (windows store)",
   "language": "python",
   "name": "python3"
  },
  "language_info": {
   "codemirror_mode": {
    "name": "ipython",
    "version": 3
   },
   "file_extension": ".py",
   "mimetype": "text/x-python",
   "name": "python",
   "nbconvert_exporter": "python",
   "pygments_lexer": "ipython3",
   "version": "3.9.10"
  },
  "orig_nbformat": 4
 },
 "nbformat": 4,
 "nbformat_minor": 2
}
