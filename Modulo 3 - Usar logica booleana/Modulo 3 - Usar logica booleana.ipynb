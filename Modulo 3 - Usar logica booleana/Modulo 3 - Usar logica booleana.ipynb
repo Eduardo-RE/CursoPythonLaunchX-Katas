{
 "cells": [
  {
   "cell_type": "markdown",
   "metadata": {},
   "source": [
    "# Problema 1\n"
   ]
  },
  {
   "cell_type": "code",
   "execution_count": 4,
   "metadata": {},
   "outputs": [
    {
     "name": "stdout",
     "output_type": "stream",
     "text": [
      "!Advertencia asteroide acercandose a la tierra!\n"
     ]
    }
   ],
   "source": [
    "asteroide = 49\n",
    "if  asteroide > 25:\n",
    "    print(\"!Advertencia asteroide acercandose a la tierra!\")\n",
    "else:\n",
    "    print(\"Falsa alarma\")"
   ]
  },
  {
   "cell_type": "markdown",
   "metadata": {},
   "source": [
    "# Problema 2\n"
   ]
  },
  {
   "cell_type": "code",
   "execution_count": 2,
   "metadata": {},
   "outputs": [
    {
     "name": "stdout",
     "output_type": "stream",
     "text": [
      "Falsa alarma\n"
     ]
    }
   ],
   "source": [
    "asteroide = 19\n",
    "if asteroide > 20:\n",
    "    print(\"Rayo de luz viendose desde la tierra\")\n",
    "elif asteroide == 20:\n",
    "    print(\"Rayo de luz viendose desde la tierra\")\n",
    "else:\n",
    "    print(\"Falsa alarma\")\n"
   ]
  },
  {
   "cell_type": "markdown",
   "metadata": {},
   "source": [
    "# Problema 3\n"
   ]
  },
  {
   "cell_type": "code",
   "execution_count": 1,
   "metadata": {},
   "outputs": [
    {
     "name": "stdout",
     "output_type": "stream",
     "text": [
      "Rayo de luz viendose desde la tierra\n"
     ]
    }
   ],
   "source": [
    "velocidad_asteroide = 25\n",
    "tamaño_asteroide = 40\n",
    "if velocidad_asteroide > 25 and tamaño_asteroide > 25:\n",
    "    print(\"!Advertencia asteroide acercandose a la tierra!\")\n",
    "elif velocidad_asteroide >= 20:\n",
    "    print(\"Rayo de luz viendose desde la tierra\")\n",
    "elif tamaño_asteroide < 25:\n",
    "    print(\"Falsa alarma\")\n",
    "else: \n",
    "    print(\"Falsa alarma\")\n"
   ]
  }
 ],
 "metadata": {
  "interpreter": {
   "hash": "b4ae3f830fabd9f6d0be2bfdf736c723070752cf5dc82cce9d3e82472cb111d1"
  },
  "kernelspec": {
   "display_name": "Python 3.9.10 64-bit (windows store)",
   "language": "python",
   "name": "python3"
  },
  "language_info": {
   "codemirror_mode": {
    "name": "ipython",
    "version": 3
   },
   "file_extension": ".py",
   "mimetype": "text/x-python",
   "name": "python",
   "nbconvert_exporter": "python",
   "pygments_lexer": "ipython3",
   "version": "3.9.10"
  },
  "orig_nbformat": 4
 },
 "nbformat": 4,
 "nbformat_minor": 2
}
