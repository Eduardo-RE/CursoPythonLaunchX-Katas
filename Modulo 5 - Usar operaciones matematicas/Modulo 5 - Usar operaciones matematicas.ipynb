{
 "cells": [
  {
   "cell_type": "markdown",
   "metadata": {},
   "source": [
    "# Adcion (Suma)\n",
    "answer = 30 + 12, print(answer)\n",
    ",salida: 42"
   ]
  },
  {
   "cell_type": "markdown",
   "metadata": {},
   "source": [
    "# Sustraccion(Resta)\n",
    "difference = 30 - 12,\n",
    "print(difference),\n",
    "salida: 18"
   ]
  },
  {
   "cell_type": "markdown",
   "metadata": {},
   "source": [
    "# Multiplicacion\n",
    "product = 30 * 12,\n",
    "print(product),\n",
    "salida: 360"
   ]
  },
  {
   "cell_type": "markdown",
   "metadata": {},
   "source": [
    "# Division\n",
    "quotient = 30 / 12.\n",
    "print(quotient),\n",
    "salida: 2.5"
   ]
  },
  {
   "cell_type": "markdown",
   "metadata": {},
   "source": [
    "# Trabajar con la division\n",
    "seconds = 1042,\n",
    "display_minutes = 1042 // 60,\n",
    "print(display_minutes),\n",
    "salida: 17\n",
    "\n",
    "\n",
    "seconds = 1042,\n",
    "display_minutes = 1042 // 60,\n",
    "display_seconds = 1042 % 60\n",
    "\n",
    "print(display_minutes)\n",
    "\n",
    "print(display_seconds)\n",
    "\n",
    "salida: 17, 22"
   ]
  },
  {
   "cell_type": "markdown",
   "metadata": {},
   "source": [
    "# Orden de funcionamiento (Jerarquía de Operaciones)\n",
    "result_1 = 1032 + 26 * 2\n",
    "\n",
    "result_2 = 1032 + (26 * 2)\n",
    "\n",
    "El resultado es el mismo en ambos casos - 1084"
   ]
  },
  {
   "cell_type": "markdown",
   "metadata": {},
   "source": [
    "# Convertir cadenas en números\n",
    "demo_int = int('215')\n",
    "\n",
    "print(demo_int)\n",
    "\n",
    "//////////////////////\n",
    "\n",
    "demo_float = float('215.3')\n",
    "\n",
    "print(demo_float)\n",
    "\n"
   ]
  },
  {
   "cell_type": "markdown",
   "metadata": {},
   "source": [
    "# Valores absolutos \n",
    "print(abs(39 - 16))\n",
    "\n",
    "print(abs(16 - 39))"
   ]
  },
  {
   "cell_type": "markdown",
   "metadata": {},
   "source": [
    "# Redondeo\n",
    "print(round(14.5))"
   ]
  },
  {
   "cell_type": "markdown",
   "metadata": {},
   "source": [
    "# Biblioteca Math\n",
    "from math import ceil, floor\n",
    "\n",
    "round_up = ceil(12.5)\n",
    "\n",
    "print(round_up)\n",
    "\n",
    "round_down = floor(12.5)\n",
    "\n",
    "print(round_down)\n",
    "\n",
    "Salida: 13, 12\n",
    "\n"
   ]
  },
  {
   "cell_type": "code",
   "execution_count": 6,
   "metadata": {},
   "outputs": [
    {
     "name": "stdout",
     "output_type": "stream",
     "text": [
      "628949330 km de distancia\n",
      "1012195830.53952 millas de distancia\n"
     ]
    }
   ],
   "source": [
    "# Ejercicio1 - Utilizar operadores aritmeticos\n",
    "\n",
    "#Distancia entre dos planetas\n",
    "Tierra = 149597870\n",
    "Jupiter = 778547200\n",
    "difference = Jupiter - Tierra\n",
    "print(difference, \"km de distancia\")\n",
    "\n",
    "#Distanica km a millas\n",
    "print(difference * 1.609344, \"millas de distancia\")"
   ]
  },
  {
   "cell_type": "code",
   "execution_count": 4,
   "metadata": {},
   "outputs": [
    {
     "name": "stdout",
     "output_type": "stream",
     "text": [
      "5400889\n",
      "8691888.306816\n"
     ]
    }
   ],
   "source": [
    "# Ejercicio 2 - Convierte cadenas en numeros y usa valores absolutos\n",
    "\n",
    "#Distancia entre dos planetas\n",
    "planeta1 = input('Introduzca la distancia del sol para el primer planeta en KM')\n",
    "planeta2 = input('Introduzca la distancia del sol para el segundo planeta en KM')\n",
    "\n",
    "# Convierte las cadenas en numeros\n",
    "planeta1 = int(planeta1)\n",
    "planeta2 = int(planeta2)\n",
    "\n",
    "# Determinar el valor absoluto\n",
    "distancia_km = planeta2 - planeta1\n",
    "print(distancia_km)\n",
    "\n",
    "# Distancia km a millas\n",
    "distancia_mi = distancia_km * 1.609344\n",
    "print(distancia_mi)"
   ]
  }
 ],
 "metadata": {
  "interpreter": {
   "hash": "b4ae3f830fabd9f6d0be2bfdf736c723070752cf5dc82cce9d3e82472cb111d1"
  },
  "kernelspec": {
   "display_name": "Python 3.9.10 64-bit (windows store)",
   "language": "python",
   "name": "python3"
  },
  "language_info": {
   "codemirror_mode": {
    "name": "ipython",
    "version": 3
   },
   "file_extension": ".py",
   "mimetype": "text/x-python",
   "name": "python",
   "nbconvert_exporter": "python",
   "pygments_lexer": "ipython3",
   "version": "3.9.10"
  },
  "orig_nbformat": 4
 },
 "nbformat": 4,
 "nbformat_minor": 2
}
